{
 "cells": [
  {
   "cell_type": "markdown",
   "id": "e1ade77d",
   "metadata": {},
   "source": [
    "#### Isolate the non-nulls in the alcohol series and assign them to the variabl wine_servings"
   ]
  },
  {
   "cell_type": "code",
   "execution_count": 1,
   "id": "3c91db35",
   "metadata": {},
   "outputs": [],
   "source": [
    "import pandas as pd"
   ]
  },
  {
   "cell_type": "code",
   "execution_count": 8,
   "id": "5aad6283",
   "metadata": {},
   "outputs": [
    {
     "name": "stderr",
     "output_type": "stream",
     "text": [
      "/var/folders/qc/75tc8zq51_zgncdtzy296p400000gn/T/ipykernel_3981/2718278490.py:1: FutureWarning: The squeeze argument has been deprecated and will be removed in a future version. Append .squeeze(\"columns\") to the call to squeeze.\n",
      "\n",
      "\n",
      "  alcohol = pd.read_csv('https://andybek.com/pandas-drinks', usecols=['country','wine_servings'], index_col='country', squeeze=True)\n"
     ]
    }
   ],
   "source": [
    "alcohol = pd.read_csv('https://andybek.com/pandas-drinks', usecols=['country','wine_servings'], index_col='country', squeeze=True)"
   ]
  },
  {
   "cell_type": "code",
   "execution_count": 11,
   "id": "78d2ebd7",
   "metadata": {},
   "outputs": [],
   "source": [
    "wine_servings = alcohol.loc[alcohol.notnull()]"
   ]
  },
  {
   "cell_type": "markdown",
   "id": "18c6ae23",
   "metadata": {},
   "source": [
    "#### What is the total wine consumed by countries in wine_servings?"
   ]
  },
  {
   "cell_type": "code",
   "execution_count": 12,
   "id": "c7a991de",
   "metadata": {},
   "outputs": [
    {
     "data": {
      "text/plain": [
       "8221.0"
      ]
     },
     "execution_count": 12,
     "metadata": {},
     "output_type": "execute_result"
    }
   ],
   "source": [
    "wine_servings.sum()"
   ]
  },
  {
   "cell_type": "markdown",
   "id": "46bde5b8",
   "metadata": {},
   "source": [
    "#### In the wine_servings, what was the total wine consumed by countries that consumed less than 100 servings?"
   ]
  },
  {
   "cell_type": "code",
   "execution_count": 16,
   "id": "c5e748ea",
   "metadata": {},
   "outputs": [
    {
     "data": {
      "text/plain": [
       "2416.0"
      ]
     },
     "execution_count": 16,
     "metadata": {},
     "output_type": "execute_result"
    }
   ],
   "source": [
    "wine_servings.loc[wine_servings < 100].sum()"
   ]
  },
  {
   "cell_type": "code",
   "execution_count": null,
   "id": "d7109832",
   "metadata": {},
   "outputs": [],
   "source": []
  }
 ],
 "metadata": {
  "kernelspec": {
   "display_name": "Python 3 (ipykernel)",
   "language": "python",
   "name": "python3"
  },
  "language_info": {
   "codemirror_mode": {
    "name": "ipython",
    "version": 3
   },
   "file_extension": ".py",
   "mimetype": "text/x-python",
   "name": "python",
   "nbconvert_exporter": "python",
   "pygments_lexer": "ipython3",
   "version": "3.9.12"
  }
 },
 "nbformat": 4,
 "nbformat_minor": 5
}
