{
 "cells": [
  {
   "cell_type": "markdown",
   "id": "553fec9d",
   "metadata": {},
   "source": [
    "#### Create a series of length 100 containing squares of integer 0 to 99. Assign it to the variable squares."
   ]
  },
  {
   "cell_type": "code",
   "execution_count": 1,
   "id": "a8596beb",
   "metadata": {},
   "outputs": [],
   "source": [
    "import pandas as pd"
   ]
  },
  {
   "cell_type": "code",
   "execution_count": 5,
   "id": "cc6b1923",
   "metadata": {},
   "outputs": [],
   "source": [
    "squares = pd.Series([i**2 for i in range(100)])"
   ]
  },
  {
   "cell_type": "code",
   "execution_count": 6,
   "id": "66851573",
   "metadata": {},
   "outputs": [
    {
     "data": {
      "text/plain": [
       "0        0\n",
       "1        1\n",
       "2        4\n",
       "3        9\n",
       "4       16\n",
       "      ... \n",
       "95    9025\n",
       "96    9216\n",
       "97    9409\n",
       "98    9604\n",
       "99    9801\n",
       "Length: 100, dtype: int64"
      ]
     },
     "execution_count": 6,
     "metadata": {},
     "output_type": "execute_result"
    }
   ],
   "source": [
    "squares"
   ]
  },
  {
   "cell_type": "markdown",
   "id": "0124dcaf",
   "metadata": {},
   "source": [
    "#### Extract the last three items from the squarees series using square bracket indexing."
   ]
  },
  {
   "cell_type": "code",
   "execution_count": 9,
   "id": "bfc43f91",
   "metadata": {},
   "outputs": [],
   "source": [
    "brac_series = squares[-3:]"
   ]
  },
  {
   "cell_type": "markdown",
   "id": "579a9cd1",
   "metadata": {},
   "source": [
    "#### Repeat step 2 using tail()"
   ]
  },
  {
   "cell_type": "code",
   "execution_count": 10,
   "id": "525e4579",
   "metadata": {},
   "outputs": [],
   "source": [
    "tail_series = squares.tail(3)"
   ]
  },
  {
   "cell_type": "markdown",
   "id": "67a8f9bf",
   "metadata": {},
   "source": [
    "#### Verify out of 2 and 3 is same using .equals() method"
   ]
  },
  {
   "cell_type": "code",
   "execution_count": 11,
   "id": "467d3b6c",
   "metadata": {},
   "outputs": [
    {
     "data": {
      "text/plain": [
       "True"
      ]
     },
     "execution_count": 11,
     "metadata": {},
     "output_type": "execute_result"
    }
   ],
   "source": [
    "brac_series.equals(tail_series)"
   ]
  }
 ],
 "metadata": {
  "kernelspec": {
   "display_name": "Python 3 (ipykernel)",
   "language": "python",
   "name": "python3"
  },
  "language_info": {
   "codemirror_mode": {
    "name": "ipython",
    "version": 3
   },
   "file_extension": ".py",
   "mimetype": "text/x-python",
   "name": "python",
   "nbconvert_exporter": "python",
   "pygments_lexer": "ipython3",
   "version": "3.9.12"
  }
 },
 "nbformat": 4,
 "nbformat_minor": 5
}
