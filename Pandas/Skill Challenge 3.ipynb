{
 "cells": [
  {
   "cell_type": "markdown",
   "id": "3c2178ce",
   "metadata": {},
   "source": [
    "#### 1. Select all the countries from alcohol that have more than 50 wine servings, and save them in a variable fifty_plus"
   ]
  },
  {
   "cell_type": "code",
   "execution_count": 1,
   "id": "7bea2943",
   "metadata": {},
   "outputs": [],
   "source": [
    "import pandas as pd"
   ]
  },
  {
   "cell_type": "code",
   "execution_count": 2,
   "id": "094a4262",
   "metadata": {},
   "outputs": [
    {
     "name": "stderr",
     "output_type": "stream",
     "text": [
      "/var/folders/qc/75tc8zq51_zgncdtzy296p400000gn/T/ipykernel_6058/2718278490.py:1: FutureWarning: The squeeze argument has been deprecated and will be removed in a future version. Append .squeeze(\"columns\") to the call to squeeze.\n",
      "\n",
      "\n",
      "  alcohol = pd.read_csv('https://andybek.com/pandas-drinks', usecols=['country','wine_servings'], index_col='country', squeeze=True)\n"
     ]
    }
   ],
   "source": [
    "alcohol = pd.read_csv('https://andybek.com/pandas-drinks', usecols=['country','wine_servings'], index_col='country', squeeze=True)"
   ]
  },
  {
   "cell_type": "code",
   "execution_count": 8,
   "id": "61b35cc1",
   "metadata": {},
   "outputs": [],
   "source": [
    "fifty_plus = alcohol[alcohol>50]"
   ]
  },
  {
   "cell_type": "markdown",
   "id": "32a52ed3",
   "metadata": {},
   "source": [
    "#### 2. From fifty_plus, choose the countries with the smallest 20 wine servings"
   ]
  },
  {
   "cell_type": "code",
   "execution_count": 10,
   "id": "27159bd8",
   "metadata": {},
   "outputs": [
    {
     "data": {
      "text/plain": [
       "country\n",
       "Bahamas                51.0\n",
       "Seychelles             51.0\n",
       "Albania                54.0\n",
       "Lithuania              56.0\n",
       "Poland                 56.0\n",
       "Estonia                59.0\n",
       "Gabon                  59.0\n",
       "Latvia                 62.0\n",
       "St. Lucia              71.0\n",
       "Russian Federation     73.0\n",
       "Cook Islands           74.0\n",
       "Paraguay               74.0\n",
       "Iceland                78.0\n",
       "South Africa           81.0\n",
       "USA                    84.0\n",
       "Macedonia              86.0\n",
       "Bulgaria               94.0\n",
       "Finland                97.0\n",
       "Spain                 112.0\n",
       "Cyprus                113.0\n",
       "Name: wine_servings, dtype: float64"
      ]
     },
     "execution_count": 10,
     "metadata": {},
     "output_type": "execute_result"
    }
   ],
   "source": [
    "fifty_plus.nsmallest(20)"
   ]
  },
  {
   "cell_type": "markdown",
   "id": "e6bc41e0",
   "metadata": {},
   "source": [
    "#### 3. Find the mean, median and standard deviation for the sample from step 2."
   ]
  },
  {
   "cell_type": "code",
   "execution_count": 11,
   "id": "08d02480",
   "metadata": {},
   "outputs": [
    {
     "data": {
      "text/plain": [
       "147.1875"
      ]
     },
     "execution_count": 11,
     "metadata": {},
     "output_type": "execute_result"
    }
   ],
   "source": [
    "fifty_plus.mean()"
   ]
  },
  {
   "cell_type": "code",
   "execution_count": 15,
   "id": "59848329",
   "metadata": {},
   "outputs": [
    {
     "data": {
      "text/plain": [
       "128.5"
      ]
     },
     "execution_count": 15,
     "metadata": {},
     "output_type": "execute_result"
    }
   ],
   "source": [
    "fifty_plus.median()"
   ]
  },
  {
   "cell_type": "code",
   "execution_count": 16,
   "id": "1fd30b76",
   "metadata": {},
   "outputs": [
    {
     "data": {
      "text/plain": [
       "0     51.0\n",
       "1     56.0\n",
       "2     59.0\n",
       "3     74.0\n",
       "4    175.0\n",
       "5    212.0\n",
       "Name: wine_servings, dtype: float64"
      ]
     },
     "execution_count": 16,
     "metadata": {},
     "output_type": "execute_result"
    }
   ],
   "source": [
    "fifty_plus.mode()"
   ]
  },
  {
   "cell_type": "code",
   "execution_count": 17,
   "id": "4a188c27",
   "metadata": {},
   "outputs": [
    {
     "data": {
      "text/plain": [
       "77.8511007178365"
      ]
     },
     "execution_count": 17,
     "metadata": {},
     "output_type": "execute_result"
    }
   ],
   "source": [
    "fifty_plus.std()"
   ]
  },
  {
   "cell_type": "code",
   "execution_count": null,
   "id": "d2c58e1e",
   "metadata": {},
   "outputs": [],
   "source": []
  }
 ],
 "metadata": {
  "kernelspec": {
   "display_name": "Python 3 (ipykernel)",
   "language": "python",
   "name": "python3"
  },
  "language_info": {
   "codemirror_mode": {
    "name": "ipython",
    "version": 3
   },
   "file_extension": ".py",
   "mimetype": "text/x-python",
   "name": "python",
   "nbconvert_exporter": "python",
   "pygments_lexer": "ipython3",
   "version": "3.9.12"
  }
 },
 "nbformat": 4,
 "nbformat_minor": 5
}
