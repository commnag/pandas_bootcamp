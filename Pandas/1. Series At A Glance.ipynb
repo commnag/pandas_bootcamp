{
 "cells": [
  {
   "cell_type": "code",
   "execution_count": 1,
   "id": "39eded99",
   "metadata": {},
   "outputs": [],
   "source": [
    "#Series - One-dimensional, labeled arrays, of any data type"
   ]
  },
  {
   "cell_type": "code",
   "execution_count": 3,
   "id": "a29f7dc5",
   "metadata": {},
   "outputs": [],
   "source": [
    "import pandas as pd"
   ]
  },
  {
   "cell_type": "code",
   "execution_count": 2,
   "id": "e2af83c6",
   "metadata": {},
   "outputs": [],
   "source": [
    "students = ['Abhishek', 'Nag', 'Raj']"
   ]
  },
  {
   "cell_type": "code",
   "execution_count": 4,
   "id": "ee4b685f",
   "metadata": {},
   "outputs": [
    {
     "data": {
      "text/plain": [
       "0    Abhishek\n",
       "1         Nag\n",
       "2         Raj\n",
       "dtype: object"
      ]
     },
     "execution_count": 4,
     "metadata": {},
     "output_type": "execute_result"
    }
   ],
   "source": [
    "pd.Series(students)"
   ]
  },
  {
   "cell_type": "code",
   "execution_count": 5,
   "id": "b43c19c1",
   "metadata": {},
   "outputs": [
    {
     "data": {
      "text/plain": [
       "0    27\n",
       "1    45\n",
       "2    13\n",
       "dtype: int64"
      ]
     },
     "execution_count": 5,
     "metadata": {},
     "output_type": "execute_result"
    }
   ],
   "source": [
    "ages = [27, 45, 13]\n",
    "pd.Series(ages)"
   ]
  },
  {
   "cell_type": "code",
   "execution_count": 6,
   "id": "96a5cfb0",
   "metadata": {},
   "outputs": [
    {
     "data": {
      "text/plain": [
       "0    167.0\n",
       "1    173.0\n",
       "2    190.2\n",
       "dtype: float64"
      ]
     },
     "execution_count": 6,
     "metadata": {},
     "output_type": "execute_result"
    }
   ],
   "source": [
    "heights = [167, 173, 190.2]\n",
    "pd.Series(heights)"
   ]
  },
  {
   "cell_type": "code",
   "execution_count": 7,
   "id": "67214d41",
   "metadata": {},
   "outputs": [
    {
     "data": {
      "text/plain": [
       "0           True\n",
       "1       Abhishek\n",
       "2    {'me': 100}\n",
       "dtype: object"
      ]
     },
     "execution_count": 7,
     "metadata": {},
     "output_type": "execute_result"
    }
   ],
   "source": [
    "mixed = [True, 'Abhishek', {'me':100}]\n",
    "pd.Series(mixed)"
   ]
  },
  {
   "cell_type": "markdown",
   "id": "bc2afb15",
   "metadata": {},
   "source": [
    "## Parameters vs Arguments"
   ]
  },
  {
   "cell_type": "code",
   "execution_count": 8,
   "id": "2ca41859",
   "metadata": {},
   "outputs": [
    {
     "data": {
      "text/plain": [
       "0    Abhishek\n",
       "1         Nag\n",
       "2         Raj\n",
       "dtype: object"
      ]
     },
     "execution_count": 8,
     "metadata": {},
     "output_type": "execute_result"
    }
   ],
   "source": [
    "pd.Series(students)"
   ]
  },
  {
   "cell_type": "code",
   "execution_count": 9,
   "id": "cd2ca2fe",
   "metadata": {},
   "outputs": [
    {
     "data": {
      "text/plain": [
       "0    Abhishek\n",
       "1         Nag\n",
       "2         Raj\n",
       "dtype: object"
      ]
     },
     "execution_count": 9,
     "metadata": {},
     "output_type": "execute_result"
    }
   ],
   "source": [
    "pd.Series(data=students)"
   ]
  },
  {
   "cell_type": "code",
   "execution_count": 11,
   "id": "17efa569",
   "metadata": {},
   "outputs": [],
   "source": [
    "# In the above example, data is the parameter and students is the argument"
   ]
  },
  {
   "cell_type": "code",
   "execution_count": 16,
   "id": "0dfc8705",
   "metadata": {},
   "outputs": [
    {
     "data": {
      "text/plain": [
       "0    27.0\n",
       "1    45.0\n",
       "2    13.0\n",
       "dtype: float64"
      ]
     },
     "execution_count": 16,
     "metadata": {},
     "output_type": "execute_result"
    }
   ],
   "source": [
    "# Specifying the datatype\n",
    "pd.Series(ages, dtype='float')"
   ]
  },
  {
   "cell_type": "markdown",
   "id": "18b91b8c",
   "metadata": {},
   "source": [
    "## Index and RangeIndex"
   ]
  },
  {
   "cell_type": "code",
   "execution_count": 17,
   "id": "fcdc3ee6",
   "metadata": {},
   "outputs": [
    {
     "data": {
      "text/plain": [
       "['Abhishek', 'Nag', 'Raj']"
      ]
     },
     "execution_count": 17,
     "metadata": {},
     "output_type": "execute_result"
    }
   ],
   "source": [
    "students"
   ]
  },
  {
   "cell_type": "code",
   "execution_count": 19,
   "id": "edecc447",
   "metadata": {},
   "outputs": [
    {
     "data": {
      "text/plain": [
       "167.0    Abhishek\n",
       "173.0         Nag\n",
       "190.2         Raj\n",
       "dtype: object"
      ]
     },
     "execution_count": 19,
     "metadata": {},
     "output_type": "execute_result"
    }
   ],
   "source": [
    "# Providing custom labels\n",
    "\n",
    "pd.Series(data = students, index = heights)"
   ]
  },
  {
   "cell_type": "code",
   "execution_count": 24,
   "id": "ee4c3c3b",
   "metadata": {},
   "outputs": [],
   "source": [
    "pd_s = pd.Series(students, heights, dtype = 'string')"
   ]
  },
  {
   "cell_type": "code",
   "execution_count": 25,
   "id": "d3663979",
   "metadata": {},
   "outputs": [
    {
     "data": {
      "text/plain": [
       "Float64Index([167.0, 173.0, 190.2], dtype='float64')"
      ]
     },
     "execution_count": 25,
     "metadata": {},
     "output_type": "execute_result"
    }
   ],
   "source": [
    "pd_s.index"
   ]
  },
  {
   "cell_type": "code",
   "execution_count": 27,
   "id": "78c11a9b",
   "metadata": {},
   "outputs": [
    {
     "data": {
      "text/plain": [
       "[0, 1, 2, 3, 4, 5, 6, 7, 8, 9]"
      ]
     },
     "execution_count": 27,
     "metadata": {},
     "output_type": "execute_result"
    }
   ],
   "source": [
    "list(pd.RangeIndex(start = 0, stop = 10, step = 1))"
   ]
  },
  {
   "cell_type": "code",
   "execution_count": 28,
   "id": "5a3cdf8a",
   "metadata": {},
   "outputs": [
    {
     "data": {
      "text/plain": [
       "[10, 8, 6, 4, 2]"
      ]
     },
     "execution_count": 28,
     "metadata": {},
     "output_type": "execute_result"
    }
   ],
   "source": [
    "list(pd.RangeIndex(start = 10, stop = 0, step = -2))"
   ]
  },
  {
   "cell_type": "markdown",
   "id": "0b57ce6c",
   "metadata": {},
   "source": [
    "## Series and Index Names"
   ]
  },
  {
   "cell_type": "code",
   "execution_count": 30,
   "id": "325f1cca",
   "metadata": {},
   "outputs": [],
   "source": [
    "books_series = pd.Series(['Wings of Fire','Winner Stands Alone','Burning Hell'])"
   ]
  },
  {
   "cell_type": "code",
   "execution_count": 31,
   "id": "9e8a0e99",
   "metadata": {},
   "outputs": [
    {
     "data": {
      "text/plain": [
       "0          Wings of Fire\n",
       "1    Winner Stands Alone\n",
       "2           Burning Hell\n",
       "dtype: object"
      ]
     },
     "execution_count": 31,
     "metadata": {},
     "output_type": "execute_result"
    }
   ],
   "source": [
    "books_series"
   ]
  },
  {
   "cell_type": "code",
   "execution_count": 32,
   "id": "a4b2c4a7",
   "metadata": {},
   "outputs": [
    {
     "data": {
      "text/plain": [
       "3"
      ]
     },
     "execution_count": 32,
     "metadata": {},
     "output_type": "execute_result"
    }
   ],
   "source": [
    "books_series.size"
   ]
  },
  {
   "cell_type": "code",
   "execution_count": 33,
   "id": "caf2e25b",
   "metadata": {},
   "outputs": [
    {
     "data": {
      "text/plain": [
       "dtype('O')"
      ]
     },
     "execution_count": 33,
     "metadata": {},
     "output_type": "execute_result"
    }
   ],
   "source": [
    "books_series.dtype"
   ]
  },
  {
   "cell_type": "code",
   "execution_count": 34,
   "id": "95624893",
   "metadata": {},
   "outputs": [
    {
     "data": {
      "text/plain": [
       "RangeIndex(start=0, stop=3, step=1)"
      ]
     },
     "execution_count": 34,
     "metadata": {},
     "output_type": "execute_result"
    }
   ],
   "source": [
    "books_series.index"
   ]
  },
  {
   "cell_type": "code",
   "execution_count": 36,
   "id": "c063bcf4",
   "metadata": {},
   "outputs": [],
   "source": [
    "books_series.name"
   ]
  },
  {
   "cell_type": "code",
   "execution_count": 37,
   "id": "c1316013",
   "metadata": {},
   "outputs": [],
   "source": [
    "books_series.name = 'My fav Books'"
   ]
  },
  {
   "cell_type": "code",
   "execution_count": 38,
   "id": "6959b2bc",
   "metadata": {},
   "outputs": [
    {
     "data": {
      "text/plain": [
       "0          Wings of Fire\n",
       "1    Winner Stands Alone\n",
       "2           Burning Hell\n",
       "Name: My fav Books, dtype: object"
      ]
     },
     "execution_count": 38,
     "metadata": {},
     "output_type": "execute_result"
    }
   ],
   "source": [
    "books_series"
   ]
  },
  {
   "cell_type": "code",
   "execution_count": 40,
   "id": "7ef3095d",
   "metadata": {},
   "outputs": [],
   "source": [
    "books_series.index.name"
   ]
  },
  {
   "cell_type": "code",
   "execution_count": 41,
   "id": "a6b31b9c",
   "metadata": {},
   "outputs": [],
   "source": [
    "books_series.index.name = 'ID'"
   ]
  },
  {
   "cell_type": "code",
   "execution_count": 42,
   "id": "b2d770ca",
   "metadata": {},
   "outputs": [
    {
     "data": {
      "text/plain": [
       "ID\n",
       "0          Wings of Fire\n",
       "1    Winner Stands Alone\n",
       "2           Burning Hell\n",
       "Name: My fav Books, dtype: object"
      ]
     },
     "execution_count": 42,
     "metadata": {},
     "output_type": "execute_result"
    }
   ],
   "source": [
    "books_series"
   ]
  },
  {
   "cell_type": "markdown",
   "id": "2221e20f",
   "metadata": {},
   "source": [
    "## head() and tail() "
   ]
  },
  {
   "cell_type": "code",
   "execution_count": 43,
   "id": "6dd85d72",
   "metadata": {},
   "outputs": [],
   "source": [
    "int_series = pd.Series([i for i in range(60)])"
   ]
  },
  {
   "cell_type": "code",
   "execution_count": 44,
   "id": "c320d0bb",
   "metadata": {},
   "outputs": [
    {
     "data": {
      "text/plain": [
       "0      0\n",
       "1      1\n",
       "2      2\n",
       "3      3\n",
       "4      4\n",
       "5      5\n",
       "6      6\n",
       "7      7\n",
       "8      8\n",
       "9      9\n",
       "10    10\n",
       "11    11\n",
       "12    12\n",
       "13    13\n",
       "14    14\n",
       "15    15\n",
       "16    16\n",
       "17    17\n",
       "18    18\n",
       "19    19\n",
       "20    20\n",
       "21    21\n",
       "22    22\n",
       "23    23\n",
       "24    24\n",
       "25    25\n",
       "26    26\n",
       "27    27\n",
       "28    28\n",
       "29    29\n",
       "30    30\n",
       "31    31\n",
       "32    32\n",
       "33    33\n",
       "34    34\n",
       "35    35\n",
       "36    36\n",
       "37    37\n",
       "38    38\n",
       "39    39\n",
       "40    40\n",
       "41    41\n",
       "42    42\n",
       "43    43\n",
       "44    44\n",
       "45    45\n",
       "46    46\n",
       "47    47\n",
       "48    48\n",
       "49    49\n",
       "50    50\n",
       "51    51\n",
       "52    52\n",
       "53    53\n",
       "54    54\n",
       "55    55\n",
       "56    56\n",
       "57    57\n",
       "58    58\n",
       "59    59\n",
       "dtype: int64"
      ]
     },
     "execution_count": 44,
     "metadata": {},
     "output_type": "execute_result"
    }
   ],
   "source": [
    "int_series"
   ]
  },
  {
   "cell_type": "code",
   "execution_count": 45,
   "id": "40c25e15",
   "metadata": {},
   "outputs": [
    {
     "data": {
      "text/plain": [
       "0      0\n",
       "1      1\n",
       "2      2\n",
       "3      3\n",
       "4      4\n",
       "5      5\n",
       "6      6\n",
       "7      7\n",
       "8      8\n",
       "9      9\n",
       "10    10\n",
       "11    11\n",
       "12    12\n",
       "13    13\n",
       "14    14\n",
       "15    15\n",
       "16    16\n",
       "17    17\n",
       "18    18\n",
       "19    19\n",
       "20    20\n",
       "21    21\n",
       "22    22\n",
       "23    23\n",
       "24    24\n",
       "25    25\n",
       "26    26\n",
       "27    27\n",
       "28    28\n",
       "29    29\n",
       "30    30\n",
       "31    31\n",
       "32    32\n",
       "33    33\n",
       "34    34\n",
       "35    35\n",
       "36    36\n",
       "37    37\n",
       "38    38\n",
       "39    39\n",
       "40    40\n",
       "41    41\n",
       "42    42\n",
       "43    43\n",
       "44    44\n",
       "45    45\n",
       "46    46\n",
       "47    47\n",
       "48    48\n",
       "49    49\n",
       "50    50\n",
       "51    51\n",
       "52    52\n",
       "53    53\n",
       "54    54\n",
       "55    55\n",
       "56    56\n",
       "57    57\n",
       "58    58\n",
       "59    59\n",
       "dtype: int64"
      ]
     },
     "execution_count": 45,
     "metadata": {},
     "output_type": "execute_result"
    }
   ],
   "source": [
    "pd.Series(range(60))"
   ]
  },
  {
   "cell_type": "code",
   "execution_count": 46,
   "id": "cb5699ff",
   "metadata": {},
   "outputs": [
    {
     "data": {
      "text/plain": [
       "60"
      ]
     },
     "execution_count": 46,
     "metadata": {},
     "output_type": "execute_result"
    }
   ],
   "source": [
    "int_series.size"
   ]
  },
  {
   "cell_type": "code",
   "execution_count": 47,
   "id": "4380a423",
   "metadata": {},
   "outputs": [
    {
     "data": {
      "text/plain": [
       "60"
      ]
     },
     "execution_count": 47,
     "metadata": {},
     "output_type": "execute_result"
    }
   ],
   "source": [
    "len(int_series)"
   ]
  },
  {
   "cell_type": "code",
   "execution_count": 48,
   "id": "3be96cd1",
   "metadata": {},
   "outputs": [
    {
     "data": {
      "text/plain": [
       "0    0\n",
       "1    1\n",
       "2    2\n",
       "3    3\n",
       "4    4\n",
       "dtype: int64"
      ]
     },
     "execution_count": 48,
     "metadata": {},
     "output_type": "execute_result"
    }
   ],
   "source": [
    "int_series.head()"
   ]
  },
  {
   "cell_type": "code",
   "execution_count": 49,
   "id": "9bbc697d",
   "metadata": {},
   "outputs": [
    {
     "data": {
      "text/plain": [
       "55    55\n",
       "56    56\n",
       "57    57\n",
       "58    58\n",
       "59    59\n",
       "dtype: int64"
      ]
     },
     "execution_count": 49,
     "metadata": {},
     "output_type": "execute_result"
    }
   ],
   "source": [
    "int_series.tail()"
   ]
  },
  {
   "cell_type": "code",
   "execution_count": 51,
   "id": "4bfb6618",
   "metadata": {},
   "outputs": [
    {
     "data": {
      "text/plain": [
       "0    0\n",
       "1    1\n",
       "2    2\n",
       "dtype: int64"
      ]
     },
     "execution_count": 51,
     "metadata": {},
     "output_type": "execute_result"
    }
   ],
   "source": [
    "int_series.head(3)"
   ]
  },
  {
   "cell_type": "code",
   "execution_count": 52,
   "id": "4b4602e5",
   "metadata": {},
   "outputs": [
    {
     "data": {
      "text/plain": [
       "57    57\n",
       "58    58\n",
       "59    59\n",
       "dtype: int64"
      ]
     },
     "execution_count": 52,
     "metadata": {},
     "output_type": "execute_result"
    }
   ],
   "source": [
    "int_series.tail(3)"
   ]
  },
  {
   "cell_type": "markdown",
   "id": "1d89ee2f",
   "metadata": {},
   "source": [
    "## Extracting By Index Position"
   ]
  },
  {
   "cell_type": "code",
   "execution_count": 54,
   "id": "b8131a1b",
   "metadata": {},
   "outputs": [],
   "source": [
    "from string import ascii_lowercase as al"
   ]
  },
  {
   "cell_type": "code",
   "execution_count": 55,
   "id": "94b48075",
   "metadata": {},
   "outputs": [
    {
     "data": {
      "text/plain": [
       "'abcdefghijklmnopqrstuvwxyz'"
      ]
     },
     "execution_count": 55,
     "metadata": {},
     "output_type": "execute_result"
    }
   ],
   "source": [
    "al"
   ]
  },
  {
   "cell_type": "code",
   "execution_count": 61,
   "id": "f4263774",
   "metadata": {},
   "outputs": [],
   "source": [
    "alphabet = pd.Series(list(al))"
   ]
  },
  {
   "cell_type": "code",
   "execution_count": 62,
   "id": "da5766f6",
   "metadata": {},
   "outputs": [
    {
     "data": {
      "text/plain": [
       "0    a\n",
       "1    b\n",
       "2    c\n",
       "3    d\n",
       "4    e\n",
       "dtype: object"
      ]
     },
     "execution_count": 62,
     "metadata": {},
     "output_type": "execute_result"
    }
   ],
   "source": [
    "alphabet.head()"
   ]
  },
  {
   "cell_type": "code",
   "execution_count": 63,
   "id": "261643da",
   "metadata": {},
   "outputs": [
    {
     "data": {
      "text/plain": [
       "21    v\n",
       "22    w\n",
       "23    x\n",
       "24    y\n",
       "25    z\n",
       "dtype: object"
      ]
     },
     "execution_count": 63,
     "metadata": {},
     "output_type": "execute_result"
    }
   ],
   "source": [
    "alphabet.tail()"
   ]
  },
  {
   "cell_type": "code",
   "execution_count": 69,
   "id": "4decfd7b",
   "metadata": {},
   "outputs": [
    {
     "data": {
      "text/plain": [
       "'d'"
      ]
     },
     "execution_count": 69,
     "metadata": {},
     "output_type": "execute_result"
    }
   ],
   "source": [
    "alphabet[3]"
   ]
  },
  {
   "cell_type": "code",
   "execution_count": 70,
   "id": "90468ef7",
   "metadata": {},
   "outputs": [
    {
     "data": {
      "text/plain": [
       "3    d\n",
       "4    e\n",
       "5    f\n",
       "6    g\n",
       "7    h\n",
       "8    i\n",
       "9    j\n",
       "dtype: object"
      ]
     },
     "execution_count": 70,
     "metadata": {},
     "output_type": "execute_result"
    }
   ],
   "source": [
    "alphabet[3:10]"
   ]
  },
  {
   "cell_type": "code",
   "execution_count": 71,
   "id": "3e6656bc",
   "metadata": {},
   "outputs": [],
   "source": [
    "# 1. What is the first letter?\n",
    "# 2. What is the 11th letter?\n",
    "# 3. What are the first three letters?\n",
    "# 4. What are the 6th through 10th letters?\n",
    "# 5. What are the last 6 letters?"
   ]
  },
  {
   "cell_type": "code",
   "execution_count": 72,
   "id": "32abae67",
   "metadata": {},
   "outputs": [
    {
     "data": {
      "text/plain": [
       "'a'"
      ]
     },
     "execution_count": 72,
     "metadata": {},
     "output_type": "execute_result"
    }
   ],
   "source": [
    "#1 \n",
    "alphabet[0]"
   ]
  },
  {
   "cell_type": "code",
   "execution_count": 73,
   "id": "d1deff05",
   "metadata": {},
   "outputs": [
    {
     "data": {
      "text/plain": [
       "'k'"
      ]
     },
     "execution_count": 73,
     "metadata": {},
     "output_type": "execute_result"
    }
   ],
   "source": [
    "#2\n",
    "alphabet[10]"
   ]
  },
  {
   "cell_type": "code",
   "execution_count": 74,
   "id": "d2afde40",
   "metadata": {},
   "outputs": [
    {
     "data": {
      "text/plain": [
       "0    a\n",
       "1    b\n",
       "2    c\n",
       "dtype: object"
      ]
     },
     "execution_count": 74,
     "metadata": {},
     "output_type": "execute_result"
    }
   ],
   "source": [
    "#3\n",
    "alphabet[0:3]"
   ]
  },
  {
   "cell_type": "code",
   "execution_count": 75,
   "id": "e9ba60ef",
   "metadata": {},
   "outputs": [
    {
     "data": {
      "text/plain": [
       "5    f\n",
       "6    g\n",
       "7    h\n",
       "8    i\n",
       "9    j\n",
       "dtype: object"
      ]
     },
     "execution_count": 75,
     "metadata": {},
     "output_type": "execute_result"
    }
   ],
   "source": [
    "#4\n",
    "alphabet[5:10]"
   ]
  },
  {
   "cell_type": "code",
   "execution_count": 76,
   "id": "6532c07d",
   "metadata": {},
   "outputs": [
    {
     "data": {
      "text/plain": [
       "20    u\n",
       "21    v\n",
       "22    w\n",
       "23    x\n",
       "24    y\n",
       "25    z\n",
       "dtype: object"
      ]
     },
     "execution_count": 76,
     "metadata": {},
     "output_type": "execute_result"
    }
   ],
   "source": [
    "#5 \n",
    "alphabet[-6:]"
   ]
  },
  {
   "cell_type": "markdown",
   "id": "2adbbc4b",
   "metadata": {},
   "source": [
    "## Accessing Elements By Label"
   ]
  },
  {
   "cell_type": "code",
   "execution_count": 77,
   "id": "5d933fbf",
   "metadata": {},
   "outputs": [],
   "source": [
    "from string import ascii_uppercase as au"
   ]
  },
  {
   "cell_type": "code",
   "execution_count": 78,
   "id": "2b152a46",
   "metadata": {},
   "outputs": [
    {
     "data": {
      "text/plain": [
       "'ABCDEFGHIJKLMNOPQRSTUVWXYZ'"
      ]
     },
     "execution_count": 78,
     "metadata": {},
     "output_type": "execute_result"
    }
   ],
   "source": [
    "au"
   ]
  },
  {
   "cell_type": "code",
   "execution_count": 82,
   "id": "60236976",
   "metadata": {},
   "outputs": [],
   "source": [
    "labeled_alphabet = pd.Series(data = list(al), index=map(lambda x: 'label_'+x, list(au)))"
   ]
  },
  {
   "cell_type": "code",
   "execution_count": 83,
   "id": "b38fd661",
   "metadata": {},
   "outputs": [
    {
     "data": {
      "text/plain": [
       "label_A    a\n",
       "label_B    b\n",
       "label_C    c\n",
       "label_D    d\n",
       "label_E    e\n",
       "dtype: object"
      ]
     },
     "execution_count": 83,
     "metadata": {},
     "output_type": "execute_result"
    }
   ],
   "source": [
    "labeled_alphabet.head()"
   ]
  },
  {
   "cell_type": "code",
   "execution_count": 84,
   "id": "e0c50853",
   "metadata": {},
   "outputs": [],
   "source": [
    "# 1. What is the first letter?\n",
    "# 2. What is the 11th letter?\n",
    "# 3. What are the first three letters?\n",
    "# 4. What are the 6th through 10th letters?\n",
    "# 5. What are the last 6 letters?"
   ]
  },
  {
   "cell_type": "code",
   "execution_count": 85,
   "id": "bb9a3db2",
   "metadata": {},
   "outputs": [
    {
     "data": {
      "text/plain": [
       "'a'"
      ]
     },
     "execution_count": 85,
     "metadata": {},
     "output_type": "execute_result"
    }
   ],
   "source": [
    "#1\n",
    "labeled_alphabet[0]"
   ]
  },
  {
   "cell_type": "code",
   "execution_count": 86,
   "id": "aa203b51",
   "metadata": {},
   "outputs": [
    {
     "data": {
      "text/plain": [
       "'a'"
      ]
     },
     "execution_count": 86,
     "metadata": {},
     "output_type": "execute_result"
    }
   ],
   "source": [
    "labeled_alphabet['label_A']"
   ]
  },
  {
   "cell_type": "code",
   "execution_count": 87,
   "id": "8cdbc179",
   "metadata": {},
   "outputs": [
    {
     "data": {
      "text/plain": [
       "'k'"
      ]
     },
     "execution_count": 87,
     "metadata": {},
     "output_type": "execute_result"
    }
   ],
   "source": [
    "#2\n",
    "labeled_alphabet[10]"
   ]
  },
  {
   "cell_type": "code",
   "execution_count": 88,
   "id": "13ddb62c",
   "metadata": {},
   "outputs": [
    {
     "data": {
      "text/plain": [
       "'k'"
      ]
     },
     "execution_count": 88,
     "metadata": {},
     "output_type": "execute_result"
    }
   ],
   "source": [
    "labeled_alphabet['label_K']"
   ]
  },
  {
   "cell_type": "code",
   "execution_count": 89,
   "id": "bdc64e17",
   "metadata": {},
   "outputs": [
    {
     "data": {
      "text/plain": [
       "label_A    a\n",
       "label_B    b\n",
       "label_C    c\n",
       "dtype: object"
      ]
     },
     "execution_count": 89,
     "metadata": {},
     "output_type": "execute_result"
    }
   ],
   "source": [
    "#3\n",
    "labeled_alphabet[:3]"
   ]
  },
  {
   "cell_type": "code",
   "execution_count": 91,
   "id": "f6499cac",
   "metadata": {},
   "outputs": [
    {
     "data": {
      "text/plain": [
       "label_A    a\n",
       "label_B    b\n",
       "label_C    c\n",
       "dtype: object"
      ]
     },
     "execution_count": 91,
     "metadata": {},
     "output_type": "execute_result"
    }
   ],
   "source": [
    "labeled_alphabet[:'label_C']"
   ]
  },
  {
   "cell_type": "code",
   "execution_count": 93,
   "id": "30ec1657",
   "metadata": {},
   "outputs": [],
   "source": [
    "# In position based index, end index isn't included but in label based indexing, end label is included"
   ]
  },
  {
   "cell_type": "code",
   "execution_count": 95,
   "id": "22ed709f",
   "metadata": {},
   "outputs": [
    {
     "data": {
      "text/plain": [
       "label_F    f\n",
       "label_G    g\n",
       "label_H    h\n",
       "label_I    i\n",
       "label_J    j\n",
       "dtype: object"
      ]
     },
     "execution_count": 95,
     "metadata": {},
     "output_type": "execute_result"
    }
   ],
   "source": [
    "#4\n",
    "labeled_alphabet[5:10]"
   ]
  },
  {
   "cell_type": "code",
   "execution_count": 98,
   "id": "b6082763",
   "metadata": {},
   "outputs": [
    {
     "data": {
      "text/plain": [
       "label_F    f\n",
       "label_G    g\n",
       "label_H    h\n",
       "label_I    i\n",
       "label_J    j\n",
       "dtype: object"
      ]
     },
     "execution_count": 98,
     "metadata": {},
     "output_type": "execute_result"
    }
   ],
   "source": [
    "labeled_alphabet['label_F':'label_J']"
   ]
  },
  {
   "cell_type": "code",
   "execution_count": 99,
   "id": "efc0b169",
   "metadata": {},
   "outputs": [
    {
     "data": {
      "text/plain": [
       "label_U    u\n",
       "label_V    v\n",
       "label_W    w\n",
       "label_X    x\n",
       "label_Y    y\n",
       "label_Z    z\n",
       "dtype: object"
      ]
     },
     "execution_count": 99,
     "metadata": {},
     "output_type": "execute_result"
    }
   ],
   "source": [
    "#5\n",
    "labeled_alphabet[-6:]"
   ]
  },
  {
   "cell_type": "code",
   "execution_count": 101,
   "id": "79e9503a",
   "metadata": {},
   "outputs": [
    {
     "data": {
      "text/plain": [
       "label_U    u\n",
       "label_V    v\n",
       "label_W    w\n",
       "label_X    x\n",
       "label_Y    y\n",
       "label_Z    z\n",
       "dtype: object"
      ]
     },
     "execution_count": 101,
     "metadata": {},
     "output_type": "execute_result"
    }
   ],
   "source": [
    "labeled_alphabet['label_U':]"
   ]
  },
  {
   "cell_type": "markdown",
   "id": "63fdc5cc",
   "metadata": {},
   "source": [
    "## add_prefix() and add_suffix()"
   ]
  },
  {
   "cell_type": "code",
   "execution_count": 102,
   "id": "470a6824",
   "metadata": {},
   "outputs": [
    {
     "data": {
      "text/plain": [
       "0    a\n",
       "1    b\n",
       "2    c\n",
       "3    d\n",
       "4    e\n",
       "dtype: object"
      ]
     },
     "execution_count": 102,
     "metadata": {},
     "output_type": "execute_result"
    }
   ],
   "source": [
    "alphabet.head()"
   ]
  },
  {
   "cell_type": "code",
   "execution_count": 103,
   "id": "1a162a37",
   "metadata": {},
   "outputs": [
    {
     "data": {
      "text/plain": [
       "label_0     a\n",
       "label_1     b\n",
       "label_2     c\n",
       "label_3     d\n",
       "label_4     e\n",
       "label_5     f\n",
       "label_6     g\n",
       "label_7     h\n",
       "label_8     i\n",
       "label_9     j\n",
       "label_10    k\n",
       "label_11    l\n",
       "label_12    m\n",
       "label_13    n\n",
       "label_14    o\n",
       "label_15    p\n",
       "label_16    q\n",
       "label_17    r\n",
       "label_18    s\n",
       "label_19    t\n",
       "label_20    u\n",
       "label_21    v\n",
       "label_22    w\n",
       "label_23    x\n",
       "label_24    y\n",
       "label_25    z\n",
       "dtype: object"
      ]
     },
     "execution_count": 103,
     "metadata": {},
     "output_type": "execute_result"
    }
   ],
   "source": [
    "alphabet.add_prefix('label_')"
   ]
  },
  {
   "cell_type": "code",
   "execution_count": 106,
   "id": "e2fafed8",
   "metadata": {},
   "outputs": [
    {
     "data": {
      "text/plain": [
       "label_0_cool_ending     a\n",
       "label_1_cool_ending     b\n",
       "label_2_cool_ending     c\n",
       "label_3_cool_ending     d\n",
       "label_4_cool_ending     e\n",
       "label_5_cool_ending     f\n",
       "label_6_cool_ending     g\n",
       "label_7_cool_ending     h\n",
       "label_8_cool_ending     i\n",
       "label_9_cool_ending     j\n",
       "label_10_cool_ending    k\n",
       "label_11_cool_ending    l\n",
       "label_12_cool_ending    m\n",
       "label_13_cool_ending    n\n",
       "label_14_cool_ending    o\n",
       "label_15_cool_ending    p\n",
       "label_16_cool_ending    q\n",
       "label_17_cool_ending    r\n",
       "label_18_cool_ending    s\n",
       "label_19_cool_ending    t\n",
       "label_20_cool_ending    u\n",
       "label_21_cool_ending    v\n",
       "label_22_cool_ending    w\n",
       "label_23_cool_ending    x\n",
       "label_24_cool_ending    y\n",
       "label_25_cool_ending    z\n",
       "dtype: object"
      ]
     },
     "execution_count": 106,
     "metadata": {},
     "output_type": "execute_result"
    }
   ],
   "source": [
    "alphabet.add_prefix('label_').add_suffix('_cool_ending')"
   ]
  },
  {
   "cell_type": "code",
   "execution_count": 107,
   "id": "dde28336",
   "metadata": {},
   "outputs": [
    {
     "data": {
      "text/plain": [
       "0     a\n",
       "1     b\n",
       "2     c\n",
       "3     d\n",
       "4     e\n",
       "5     f\n",
       "6     g\n",
       "7     h\n",
       "8     i\n",
       "9     j\n",
       "10    k\n",
       "11    l\n",
       "12    m\n",
       "13    n\n",
       "14    o\n",
       "15    p\n",
       "16    q\n",
       "17    r\n",
       "18    s\n",
       "19    t\n",
       "20    u\n",
       "21    v\n",
       "22    w\n",
       "23    x\n",
       "24    y\n",
       "25    z\n",
       "dtype: object"
      ]
     },
     "execution_count": 107,
     "metadata": {},
     "output_type": "execute_result"
    }
   ],
   "source": [
    "alphabet"
   ]
  },
  {
   "cell_type": "markdown",
   "id": "8eb00ae4",
   "metadata": {},
   "source": [
    "## Using Dot Notation"
   ]
  },
  {
   "cell_type": "code",
   "execution_count": 108,
   "id": "61487b49",
   "metadata": {},
   "outputs": [
    {
     "data": {
      "text/plain": [
       "'v'"
      ]
     },
     "execution_count": 108,
     "metadata": {},
     "output_type": "execute_result"
    }
   ],
   "source": [
    "labeled_alphabet['label_V']"
   ]
  },
  {
   "cell_type": "code",
   "execution_count": 110,
   "id": "e78ceed9",
   "metadata": {},
   "outputs": [
    {
     "data": {
      "text/plain": [
       "'v'"
      ]
     },
     "execution_count": 110,
     "metadata": {},
     "output_type": "execute_result"
    }
   ],
   "source": [
    "labeled_alphabet.label_V"
   ]
  },
  {
   "cell_type": "markdown",
   "id": "b3acb2e3",
   "metadata": {},
   "source": [
    "## Boolean Masks and the .loc Indexer"
   ]
  },
  {
   "cell_type": "code",
   "execution_count": 112,
   "id": "5f3dd7b6",
   "metadata": {},
   "outputs": [
    {
     "data": {
      "text/plain": [
       "label_F    f\n",
       "label_G    g\n",
       "label_H    h\n",
       "label_I    i\n",
       "label_J    j\n",
       "dtype: object"
      ]
     },
     "execution_count": 112,
     "metadata": {},
     "output_type": "execute_result"
    }
   ],
   "source": [
    "labeled_alphabet['label_F':'label_J']"
   ]
  },
  {
   "cell_type": "code",
   "execution_count": 113,
   "id": "de6f19f4",
   "metadata": {},
   "outputs": [
    {
     "data": {
      "text/plain": [
       "label_F    f\n",
       "label_G    g\n",
       "label_H    h\n",
       "label_I    i\n",
       "label_J    j\n",
       "dtype: object"
      ]
     },
     "execution_count": 113,
     "metadata": {},
     "output_type": "execute_result"
    }
   ],
   "source": [
    "labeled_alphabet.loc['label_F':'label_J']"
   ]
  },
  {
   "cell_type": "code",
   "execution_count": 123,
   "id": "4c715c43",
   "metadata": {},
   "outputs": [
    {
     "data": {
      "text/plain": [
       "ID\n",
       "0    Wings of Fire\n",
       "2     Burning Hell\n",
       "Name: My fav Books, dtype: object"
      ]
     },
     "execution_count": 123,
     "metadata": {},
     "output_type": "execute_result"
    }
   ],
   "source": [
    "books_series.loc[[True, False, True]]\n",
    "\n",
    "# Length of the boolean list should be equal to length of the series"
   ]
  },
  {
   "cell_type": "code",
   "execution_count": 128,
   "id": "a83ff482",
   "metadata": {},
   "outputs": [
    {
     "data": {
      "text/plain": [
       "label_A    a\n",
       "label_C    c\n",
       "label_E    e\n",
       "label_G    g\n",
       "label_I    i\n",
       "label_K    k\n",
       "label_M    m\n",
       "label_O    o\n",
       "label_Q    q\n",
       "label_S    s\n",
       "label_U    u\n",
       "label_W    w\n",
       "label_Y    y\n",
       "dtype: object"
      ]
     },
     "execution_count": 128,
     "metadata": {},
     "output_type": "execute_result"
    }
   ],
   "source": [
    "labeled_alphabet.loc[[True if i%2==0 else False for i in range(26)]]"
   ]
  },
  {
   "cell_type": "markdown",
   "id": "8c5a6735",
   "metadata": {},
   "source": [
    "## Extracting By Position With .iloc"
   ]
  },
  {
   "cell_type": "code",
   "execution_count": 129,
   "id": "e4958428",
   "metadata": {},
   "outputs": [],
   "source": [
    "# iloc = index by position\n",
    "# loc = index by label"
   ]
  },
  {
   "cell_type": "code",
   "execution_count": 130,
   "id": "e31ed018",
   "metadata": {},
   "outputs": [
    {
     "data": {
      "text/plain": [
       "'a'"
      ]
     },
     "execution_count": 130,
     "metadata": {},
     "output_type": "execute_result"
    }
   ],
   "source": [
    "labeled_alphabet.iloc[0]"
   ]
  },
  {
   "cell_type": "code",
   "execution_count": 131,
   "id": "426cc595",
   "metadata": {},
   "outputs": [
    {
     "data": {
      "text/plain": [
       "label_B    b\n",
       "label_C    c\n",
       "dtype: object"
      ]
     },
     "execution_count": 131,
     "metadata": {},
     "output_type": "execute_result"
    }
   ],
   "source": [
    "labeled_alphabet.iloc[1:3]"
   ]
  },
  {
   "cell_type": "code",
   "execution_count": 132,
   "id": "574338f6",
   "metadata": {},
   "outputs": [
    {
     "data": {
      "text/plain": [
       "label_B    b\n",
       "label_E    e\n",
       "label_J    j\n",
       "dtype: object"
      ]
     },
     "execution_count": 132,
     "metadata": {},
     "output_type": "execute_result"
    }
   ],
   "source": [
    "labeled_alphabet.iloc[[1,4,9]]"
   ]
  },
  {
   "cell_type": "code",
   "execution_count": 133,
   "id": "e97455d3",
   "metadata": {},
   "outputs": [
    {
     "data": {
      "text/plain": [
       "'v'"
      ]
     },
     "execution_count": 133,
     "metadata": {},
     "output_type": "execute_result"
    }
   ],
   "source": [
    "labeled_alphabet.loc['label_V']"
   ]
  },
  {
   "cell_type": "code",
   "execution_count": 134,
   "id": "7697fea0",
   "metadata": {},
   "outputs": [
    {
     "data": {
      "text/plain": [
       "'v'"
      ]
     },
     "execution_count": 134,
     "metadata": {},
     "output_type": "execute_result"
    }
   ],
   "source": [
    "labeled_alphabet.loc[lambda x: 'label_V']"
   ]
  },
  {
   "cell_type": "code",
   "execution_count": 135,
   "id": "b1389a34",
   "metadata": {},
   "outputs": [
    {
     "data": {
      "text/plain": [
       "label_V    v\n",
       "label_A    a\n",
       "dtype: object"
      ]
     },
     "execution_count": 135,
     "metadata": {},
     "output_type": "execute_result"
    }
   ],
   "source": [
    "labeled_alphabet.loc[lambda x: ['label_V', 'label_A']]"
   ]
  },
  {
   "cell_type": "code",
   "execution_count": 136,
   "id": "918cd2c2",
   "metadata": {},
   "outputs": [
    {
     "data": {
      "text/plain": [
       "label_A    a\n",
       "label_B    b\n",
       "label_C    c\n",
       "label_D    d\n",
       "label_E    e\n",
       "label_F    f\n",
       "label_G    g\n",
       "label_H    h\n",
       "label_I    i\n",
       "label_J    j\n",
       "label_K    k\n",
       "label_L    l\n",
       "label_M    m\n",
       "label_N    n\n",
       "label_O    o\n",
       "label_P    p\n",
       "label_Q    q\n",
       "label_R    r\n",
       "label_S    s\n",
       "label_T    t\n",
       "label_U    u\n",
       "label_V    v\n",
       "label_W    w\n",
       "label_X    x\n",
       "label_Y    y\n",
       "label_Z    z\n",
       "dtype: object"
      ]
     },
     "execution_count": 136,
     "metadata": {},
     "output_type": "execute_result"
    }
   ],
   "source": [
    "labeled_alphabet.loc[lambda x: [True for i in range(x.size)]]"
   ]
  },
  {
   "cell_type": "code",
   "execution_count": 142,
   "id": "ce9e85d9",
   "metadata": {},
   "outputs": [],
   "source": [
    "def every_fifth(x):\n",
    "    return (True if (i+1)%5==0 else False for i in range(x.size))"
   ]
  },
  {
   "cell_type": "code",
   "execution_count": 143,
   "id": "970f7b8e",
   "metadata": {},
   "outputs": [
    {
     "data": {
      "text/plain": [
       "label_E    e\n",
       "label_J    j\n",
       "label_O    o\n",
       "label_T    t\n",
       "label_Y    y\n",
       "dtype: object"
      ]
     },
     "execution_count": 143,
     "metadata": {},
     "output_type": "execute_result"
    }
   ],
   "source": [
    "labeled_alphabet.iloc[every_fifth]"
   ]
  },
  {
   "cell_type": "markdown",
   "id": "c94f5c26",
   "metadata": {},
   "source": [
    "## get()"
   ]
  },
  {
   "cell_type": "code",
   "execution_count": 144,
   "id": "1b66321e",
   "metadata": {},
   "outputs": [
    {
     "data": {
      "text/plain": [
       "'i'"
      ]
     },
     "execution_count": 144,
     "metadata": {},
     "output_type": "execute_result"
    }
   ],
   "source": [
    "labeled_alphabet.get('label_I') "
   ]
  },
  {
   "cell_type": "code",
   "execution_count": 146,
   "id": "e89777d3",
   "metadata": {},
   "outputs": [
    {
     "data": {
      "text/plain": [
       "'i'"
      ]
     },
     "execution_count": 146,
     "metadata": {},
     "output_type": "execute_result"
    }
   ],
   "source": [
    "labeled_alphabet.loc['label_I']"
   ]
  },
  {
   "cell_type": "code",
   "execution_count": 147,
   "id": "aeefd41d",
   "metadata": {},
   "outputs": [
    {
     "data": {
      "text/plain": [
       "'i'"
      ]
     },
     "execution_count": 147,
     "metadata": {},
     "output_type": "execute_result"
    }
   ],
   "source": [
    "labeled_alphabet['label_I']"
   ]
  },
  {
   "cell_type": "code",
   "execution_count": 149,
   "id": "5706b196",
   "metadata": {},
   "outputs": [],
   "source": [
    "# If the label doesn't exist, then it will return None instead of error\n",
    "labeled_alphabet.get('label_In') "
   ]
  },
  {
   "cell_type": "code",
   "execution_count": 151,
   "id": "86a178fc",
   "metadata": {},
   "outputs": [
    {
     "data": {
      "text/plain": [
       "'Not Found'"
      ]
     },
     "execution_count": 151,
     "metadata": {},
     "output_type": "execute_result"
    }
   ],
   "source": [
    "# We can provide a default value if label is not found\n",
    "labeled_alphabet.get('label_In', default = 'Not Found') "
   ]
  },
  {
   "cell_type": "code",
   "execution_count": 158,
   "id": "f7646828",
   "metadata": {},
   "outputs": [
    {
     "data": {
      "text/plain": [
       "'a'"
      ]
     },
     "execution_count": 158,
     "metadata": {},
     "output_type": "execute_result"
    }
   ],
   "source": [
    "# get can behave like iloc as well\n",
    "labeled_alphabet.get(0) "
   ]
  },
  {
   "cell_type": "code",
   "execution_count": 154,
   "id": "b6bca913",
   "metadata": {},
   "outputs": [
    {
     "data": {
      "text/plain": [
       "'a'"
      ]
     },
     "execution_count": 154,
     "metadata": {},
     "output_type": "execute_result"
    }
   ],
   "source": [
    "labeled_alphabet.iloc[0]"
   ]
  },
  {
   "cell_type": "code",
   "execution_count": 155,
   "id": "b63e944f",
   "metadata": {},
   "outputs": [
    {
     "data": {
      "text/plain": [
       "'a'"
      ]
     },
     "execution_count": 155,
     "metadata": {},
     "output_type": "execute_result"
    }
   ],
   "source": [
    "labeled_alphabet[0]"
   ]
  },
  {
   "cell_type": "code",
   "execution_count": null,
   "id": "1f2bd495",
   "metadata": {},
   "outputs": [],
   "source": []
  }
 ],
 "metadata": {
  "kernelspec": {
   "display_name": "Python 3 (ipykernel)",
   "language": "python",
   "name": "python3"
  },
  "language_info": {
   "codemirror_mode": {
    "name": "ipython",
    "version": 3
   },
   "file_extension": ".py",
   "mimetype": "text/x-python",
   "name": "python",
   "nbconvert_exporter": "python",
   "pygments_lexer": "ipython3",
   "version": "3.9.12"
  }
 },
 "nbformat": 4,
 "nbformat_minor": 5
}
