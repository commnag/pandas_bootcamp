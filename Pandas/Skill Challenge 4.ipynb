{
 "cells": [
  {
   "cell_type": "markdown",
   "id": "85befe50",
   "metadata": {},
   "source": [
    "#### 1. Read the drinks.csv dataset again, this time bringing in the beer_servings sequence into a new series with country again acting as the index. Assign this series to the variable beers."
   ]
  },
  {
   "cell_type": "code",
   "execution_count": 2,
   "id": "85b94379",
   "metadata": {},
   "outputs": [],
   "source": [
    "import pandas as pd"
   ]
  },
  {
   "cell_type": "code",
   "execution_count": 3,
   "id": "79c71a79",
   "metadata": {},
   "outputs": [
    {
     "name": "stderr",
     "output_type": "stream",
     "text": [
      "/var/folders/qc/75tc8zq51_zgncdtzy296p400000gn/T/ipykernel_6416/3796080116.py:1: FutureWarning: The squeeze argument has been deprecated and will be removed in a future version. Append .squeeze(\"columns\") to the call to squeeze.\n",
      "\n",
      "\n",
      "  beers = pd.read_csv('https://andybek.com/pandas-drinks', usecols=['country','beer_servings'], index_col='country', squeeze=True)\n"
     ]
    }
   ],
   "source": [
    "beers = pd.read_csv('https://andybek.com/pandas-drinks', usecols=['country','beer_servings'], index_col='country', squeeze=True)"
   ]
  },
  {
   "cell_type": "code",
   "execution_count": 4,
   "id": "a6292188",
   "metadata": {},
   "outputs": [
    {
     "data": {
      "text/plain": [
       "country\n",
       "Afghanistan            NaN\n",
       "Albania               89.0\n",
       "Algeria               25.0\n",
       "Andorra              245.0\n",
       "Angola               217.0\n",
       "Antigua & Barbuda     12.0\n",
       "Argentina            193.0\n",
       "Armenia               21.0\n",
       "Australia            261.0\n",
       "Austria              279.0\n",
       "Name: beer_servings, dtype: float64"
      ]
     },
     "execution_count": 4,
     "metadata": {},
     "output_type": "execute_result"
    }
   ],
   "source": [
    "beers.head(10)"
   ]
  },
  {
   "cell_type": "markdown",
   "id": "506562f4",
   "metadata": {},
   "source": [
    "#### 2. Calculate the mean, median and std of beers. Is the distribution lef or right skewed?"
   ]
  },
  {
   "cell_type": "code",
   "execution_count": 5,
   "id": "c3873fb5",
   "metadata": {},
   "outputs": [
    {
     "data": {
      "text/plain": [
       "count    178.000000\n",
       "mean     102.870787\n",
       "std      100.645713\n",
       "min        1.000000\n",
       "25%       21.000000\n",
       "50%       60.000000\n",
       "75%      172.500000\n",
       "max      376.000000\n",
       "Name: beer_servings, dtype: float64"
      ]
     },
     "execution_count": 5,
     "metadata": {},
     "output_type": "execute_result"
    }
   ],
   "source": [
    "beers.describe()"
   ]
  },
  {
   "cell_type": "code",
   "execution_count": 6,
   "id": "758b699a",
   "metadata": {},
   "outputs": [
    {
     "data": {
      "text/plain": [
       "<AxesSubplot:>"
      ]
     },
     "execution_count": 6,
     "metadata": {},
     "output_type": "execute_result"
    },
    {
     "data": {
      "image/png": "[encoded data removed]",
      "text/plain": [
       "<Figure size 432x288 with 1 Axes>"
      ]
     },
     "metadata": {
      "needs_background": "light"
     },
     "output_type": "display_data"
    }
   ],
   "source": [
    "beers.hist()"
   ]
  },
  {
   "cell_type": "markdown",
   "id": "8f5e99d5",
   "metadata": {},
   "source": [
    "Right skewed"
   ]
  },
  {
   "cell_type": "markdown",
   "id": "d6420889",
   "metadata": {},
   "source": [
    "#### 3. Slice the first 10 countries from beers. Are these relatively large or small relative to the rest of the sample? BONUS: To answer that, we could compare each value to the mean or median. An even better approach would be to calculate standard scores, or z-scores as they are known."
   ]
  },
  {
   "cell_type": "code",
   "execution_count": 7,
   "id": "478cebed",
   "metadata": {},
   "outputs": [],
   "source": [
    "first_ten = beers[:10]"
   ]
  },
  {
   "cell_type": "code",
   "execution_count": 11,
   "id": "d9f34f8a",
   "metadata": {},
   "outputs": [
    {
     "data": {
      "text/plain": [
       "country\n",
       "Afghanistan                 NaN\n",
       "Albania              -13.870787\n",
       "Algeria              -77.870787\n",
       "Andorra              142.129213\n",
       "Angola               114.129213\n",
       "Antigua & Barbuda    -90.870787\n",
       "Argentina             90.129213\n",
       "Armenia              -81.870787\n",
       "Australia            158.129213\n",
       "Austria              176.129213\n",
       "Name: beer_servings, dtype: float64"
      ]
     },
     "execution_count": 11,
     "metadata": {},
     "output_type": "execute_result"
    }
   ],
   "source": [
    "first_ten - beers.mean()"
   ]
  },
  {
   "cell_type": "code",
   "execution_count": 13,
   "id": "7da3d85a",
   "metadata": {},
   "outputs": [
    {
     "data": {
      "text/plain": [
       "country\n",
       "Afghanistan          high\n",
       "Albania               low\n",
       "Algeria               low\n",
       "Andorra              high\n",
       "Angola               high\n",
       "Antigua & Barbuda     low\n",
       "Argentina            high\n",
       "Armenia               low\n",
       "Australia            high\n",
       "Austria              high\n",
       "Name: beer_servings, dtype: object"
      ]
     },
     "execution_count": 13,
     "metadata": {},
     "output_type": "execute_result"
    }
   ],
   "source": [
    "(first_ten - beers.mean()).apply(lambda x: 'low' if x<0 else 'high')"
   ]
  },
  {
   "cell_type": "code",
   "execution_count": 14,
   "id": "9b5e860e",
   "metadata": {},
   "outputs": [
    {
     "data": {
      "text/plain": [
       "high    6\n",
       "low     4\n",
       "Name: beer_servings, dtype: int64"
      ]
     },
     "execution_count": 14,
     "metadata": {},
     "output_type": "execute_result"
    }
   ],
   "source": [
    "(first_ten - beers.mean()).apply(lambda x: 'low' if x<0 else 'high').value_counts()"
   ]
  },
  {
   "cell_type": "markdown",
   "id": "096d11b9",
   "metadata": {},
   "source": [
    "#### 4. Create a new series that uses series arithmetics to calculate the z-score for each serving by subtracting from each the mean and dividing the difference by the standard deviation. Poin the variable z_scores to this series. \n",
    "\n",
    "#### Which country has the largest absolute z-score? Is this a positive or negative deviation?"
   ]
  },
  {
   "cell_type": "code",
   "execution_count": 18,
   "id": "6ac21fa5",
   "metadata": {},
   "outputs": [],
   "source": [
    "z_score = (beers - beers.mean())/beers.std()"
   ]
  },
  {
   "cell_type": "code",
   "execution_count": 19,
   "id": "66e9fcaa",
   "metadata": {},
   "outputs": [
    {
     "data": {
      "text/plain": [
       "country\n",
       "Afghanistan         NaN\n",
       "Albania       -0.137818\n",
       "Algeria       -0.773712\n",
       "Andorra        1.412174\n",
       "Angola         1.133970\n",
       "                 ...   \n",
       "Venezuela      2.286528\n",
       "Vietnam        0.080771\n",
       "Yemen         -0.962493\n",
       "Zambia        -0.704161\n",
       "Zimbabwe      -0.386214\n",
       "Name: beer_servings, Length: 193, dtype: float64"
      ]
     },
     "execution_count": 19,
     "metadata": {},
     "output_type": "execute_result"
    }
   ],
   "source": [
    "z_score"
   ]
  }
 ],
 "metadata": {
  "kernelspec": {
   "display_name": "Python 3 (ipykernel)",
   "language": "python",
   "name": "python3"
  },
  "language_info": {
   "codemirror_mode": {
    "name": "ipython",
    "version": 3
   },
   "file_extension": ".py",
   "mimetype": "text/x-python",
   "name": "python",
   "nbconvert_exporter": "python",
   "pygments_lexer": "ipython3",
   "version": "3.9.12"
  }
 },
 "nbformat": 4,
 "nbformat_minor": 5
}
